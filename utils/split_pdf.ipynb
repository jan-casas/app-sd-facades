{
 "cells": [
  {
   "cell_type": "code",
   "execution_count": 2,
   "metadata": {},
   "outputs": [
    {
     "ename": "DeprecationError",
     "evalue": "PdfFileReader is deprecated and was removed in PyPDF2 3.0.0. Use PdfReader instead.",
     "output_type": "error",
     "traceback": [
      "\u001b[1;31m---------------------------------------------------------------------------\u001b[0m",
      "\u001b[1;31mDeprecationError\u001b[0m                          Traceback (most recent call last)",
      "\u001b[1;32mc:\\Users\\casas\\OneDrive\\Escritorio\\split_pdf.ipynb Cell 1\u001b[0m line \u001b[0;36m1\n\u001b[0;32m      <a href='vscode-notebook-cell:/c%3A/Users/casas/OneDrive/Escritorio/split_pdf.ipynb#W0sZmlsZQ%3D%3D?line=8'>9</a>\u001b[0m pdf_file_obj \u001b[39m=\u001b[39m \u001b[39mopen\u001b[39m(pdf_file, \u001b[39m'\u001b[39m\u001b[39mrb\u001b[39m\u001b[39m'\u001b[39m)\n\u001b[0;32m     <a href='vscode-notebook-cell:/c%3A/Users/casas/OneDrive/Escritorio/split_pdf.ipynb#W0sZmlsZQ%3D%3D?line=10'>11</a>\u001b[0m \u001b[39m# read the pdf file\u001b[39;00m\n\u001b[1;32m---> <a href='vscode-notebook-cell:/c%3A/Users/casas/OneDrive/Escritorio/split_pdf.ipynb#W0sZmlsZQ%3D%3D?line=11'>12</a>\u001b[0m pdf_reader \u001b[39m=\u001b[39m PyPDF2\u001b[39m.\u001b[39mPdfFileReader(pdf_file_obj)\n\u001b[0;32m     <a href='vscode-notebook-cell:/c%3A/Users/casas/OneDrive/Escritorio/split_pdf.ipynb#W0sZmlsZQ%3D%3D?line=13'>14</a>\u001b[0m \u001b[39m# get the number of pages\u001b[39;00m\n\u001b[0;32m     <a href='vscode-notebook-cell:/c%3A/Users/casas/OneDrive/Escritorio/split_pdf.ipynb#W0sZmlsZQ%3D%3D?line=14'>15</a>\u001b[0m num_pages \u001b[39m=\u001b[39m pdf_reader\u001b[39m.\u001b[39mgetNumPages()\n",
      "File \u001b[1;32mc:\\Users\\casas\\.conda\\envs\\base-fast\\Lib\\site-packages\\PyPDF2\\_reader.py:1974\u001b[0m, in \u001b[0;36mPdfFileReader.__init__\u001b[1;34m(self, *args, **kwargs)\u001b[0m\n\u001b[0;32m   1973\u001b[0m \u001b[39mdef\u001b[39;00m \u001b[39m__init__\u001b[39m(\u001b[39mself\u001b[39m, \u001b[39m*\u001b[39margs: Any, \u001b[39m*\u001b[39m\u001b[39m*\u001b[39mkwargs: Any) \u001b[39m-\u001b[39m\u001b[39m>\u001b[39m \u001b[39mNone\u001b[39;00m:\n\u001b[1;32m-> 1974\u001b[0m     deprecation_with_replacement(\u001b[39m\"\u001b[39m\u001b[39mPdfFileReader\u001b[39m\u001b[39m\"\u001b[39m, \u001b[39m\"\u001b[39m\u001b[39mPdfReader\u001b[39m\u001b[39m\"\u001b[39m, \u001b[39m\"\u001b[39m\u001b[39m3.0.0\u001b[39m\u001b[39m\"\u001b[39m)\n\u001b[0;32m   1975\u001b[0m     \u001b[39mif\u001b[39;00m \u001b[39m\"\u001b[39m\u001b[39mstrict\u001b[39m\u001b[39m\"\u001b[39m \u001b[39mnot\u001b[39;00m \u001b[39min\u001b[39;00m kwargs \u001b[39mand\u001b[39;00m \u001b[39mlen\u001b[39m(args) \u001b[39m<\u001b[39m \u001b[39m2\u001b[39m:\n\u001b[0;32m   1976\u001b[0m         kwargs[\u001b[39m\"\u001b[39m\u001b[39mstrict\u001b[39m\u001b[39m\"\u001b[39m] \u001b[39m=\u001b[39m \u001b[39mTrue\u001b[39;00m  \u001b[39m# maintain the default\u001b[39;00m\n",
      "File \u001b[1;32mc:\\Users\\casas\\.conda\\envs\\base-fast\\Lib\\site-packages\\PyPDF2\\_utils.py:369\u001b[0m, in \u001b[0;36mdeprecation_with_replacement\u001b[1;34m(old_name, new_name, removed_in)\u001b[0m\n\u001b[0;32m    363\u001b[0m \u001b[39mdef\u001b[39;00m \u001b[39mdeprecation_with_replacement\u001b[39m(\n\u001b[0;32m    364\u001b[0m     old_name: \u001b[39mstr\u001b[39m, new_name: \u001b[39mstr\u001b[39m, removed_in: \u001b[39mstr\u001b[39m \u001b[39m=\u001b[39m \u001b[39m\"\u001b[39m\u001b[39m3.0.0\u001b[39m\u001b[39m\"\u001b[39m\n\u001b[0;32m    365\u001b[0m ) \u001b[39m-\u001b[39m\u001b[39m>\u001b[39m \u001b[39mNone\u001b[39;00m:\n\u001b[0;32m    366\u001b[0m \u001b[39m    \u001b[39m\u001b[39m\"\"\"\u001b[39;00m\n\u001b[0;32m    367\u001b[0m \u001b[39m    Raise an exception that a feature was already removed, but has a replacement.\u001b[39;00m\n\u001b[0;32m    368\u001b[0m \u001b[39m    \"\"\"\u001b[39;00m\n\u001b[1;32m--> 369\u001b[0m     deprecation(DEPR_MSG_HAPPENED\u001b[39m.\u001b[39mformat(old_name, removed_in, new_name))\n",
      "File \u001b[1;32mc:\\Users\\casas\\.conda\\envs\\base-fast\\Lib\\site-packages\\PyPDF2\\_utils.py:351\u001b[0m, in \u001b[0;36mdeprecation\u001b[1;34m(msg)\u001b[0m\n\u001b[0;32m    350\u001b[0m \u001b[39mdef\u001b[39;00m \u001b[39mdeprecation\u001b[39m(msg: \u001b[39mstr\u001b[39m) \u001b[39m-\u001b[39m\u001b[39m>\u001b[39m \u001b[39mNone\u001b[39;00m:\n\u001b[1;32m--> 351\u001b[0m     \u001b[39mraise\u001b[39;00m DeprecationError(msg)\n",
      "\u001b[1;31mDeprecationError\u001b[0m: PdfFileReader is deprecated and was removed in PyPDF2 3.0.0. Use PdfReader instead."
     ]
    }
   ],
   "source": [
    "import PyPDF2\n",
    "import os\n",
    "\n",
    "# get the path of the pdf file\n",
    "path = os.getcwd()\n",
    "pdf_file = 'C:/Users/casas/OneDrive/Escritorio/EDUARDO_ARROYO_MUNOZ.pdf'\n",
    "\n",
    "# open the pdf file\n",
    "pdf_file_obj = open(pdf_file, 'rb')\n",
    "\n",
    "# read the pdf file\n",
    "pdf_reader = PyPDF2.PdfFileReader(pdf_file_obj)\n",
    "\n",
    "# get the number of pages\n",
    "num_pages = pdf_reader.getNumPages()\n",
    "\n",
    "# set the page number to split at\n",
    "split_page = 181\n",
    "\n",
    "# loop through each page and write it to a new pdf file\n",
    "for page_num in range(split_page-1, num_pages):\n",
    "    pdf_writer = PyPDF2.PdfFileWriter()\n",
    "    pdf_writer.addPage(pdf_reader.getPage(page_num))\n",
    "    output_filename = 'page_{}.pdf'.format(page_num+1)\n",
    "    with open(output_filename, 'wb') as output:\n",
    "        pdf_writer.write(output)"
   ]
  },
  {
   "cell_type": "code",
   "execution_count": 4,
   "metadata": {},
   "outputs": [
    {
     "name": "stdout",
     "output_type": "stream",
     "text": [
      "Collecting pycryptodome\n",
      "  Downloading pycryptodome-3.19.0-cp35-abi3-win_amd64.whl (1.7 MB)\n",
      "                                              0.0/1.7 MB ? eta -:--:--\n",
      "                                              0.0/1.7 MB ? eta -:--:--\n",
      "                                              0.0/1.7 MB 262.6 kB/s eta 0:00:07\n",
      "     -                                        0.1/1.7 MB 491.5 kB/s eta 0:00:04\n",
      "     -------                                  0.3/1.7 MB 1.7 MB/s eta 0:00:01\n",
      "     ----------------------                   1.0/1.7 MB 4.4 MB/s eta 0:00:01\n",
      "     ---------------------------------------  1.7/1.7 MB 7.4 MB/s eta 0:00:01\n",
      "     ---------------------------------------- 1.7/1.7 MB 6.5 MB/s eta 0:00:00\n",
      "Installing collected packages: pycryptodome\n",
      "Successfully installed pycryptodome-3.19.0\n",
      "Note: you may need to restart the kernel to use updated packages.\n"
     ]
    }
   ],
   "source": [
    "pip install pycryptodome"
   ]
  },
  {
   "cell_type": "code",
   "execution_count": 5,
   "metadata": {},
   "outputs": [],
   "source": [
    "import PyPDF2\n",
    "import os\n",
    "\n",
    "# get the path of the pdf file\n",
    "path = os.getcwd()\n",
    "pdf_file = 'C:/Users/casas/OneDrive/Escritorio/EDUARDO_ARROYO_MUNOZ.pdf'\n",
    "\n",
    "# open the pdf file\n",
    "with open(pdf_file, 'rb') as pdf_file_obj:\n",
    "    # read the pdf file\n",
    "    pdf_reader = PyPDF2.PdfReader(pdf_file_obj)\n",
    "\n",
    "    # get the number of pages\n",
    "    num_pages = len(pdf_reader.pages)\n",
    "\n",
    "    # set the page number to split at\n",
    "    split_page = 184\n",
    "\n",
    "    # create a new pdf writer object\n",
    "    pdf_writer = PyPDF2.PdfWriter()\n",
    "\n",
    "    # loop through each page before the split page and add it to the new pdf writer object\n",
    "    for page_num in range(split_page-2):\n",
    "        pdf_writer.add_page(pdf_reader.pages[page_num])\n",
    "\n",
    "    # save the new pdf file\n",
    "    output_filename = 'pages_1-{}.pdf'.format(split_page-1)\n",
    "    with open(output_filename, 'wb') as output:\n",
    "        pdf_writer.write(output)"
   ]
  }
 ],
 "metadata": {
  "kernelspec": {
   "display_name": "Python 3",
   "language": "python",
   "name": "python3"
  },
  "language_info": {
   "codemirror_mode": {
    "name": "ipython",
    "version": 3
   },
   "file_extension": ".py",
   "mimetype": "text/x-python",
   "name": "python",
   "nbconvert_exporter": "python",
   "pygments_lexer": "ipython3",
   "version": "3.11.3"
  }
 },
 "nbformat": 4,
 "nbformat_minor": 2
}
